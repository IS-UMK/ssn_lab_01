{
 "cells": [
  {
   "cell_type": "markdown",
   "metadata": {
    "slideshow": {
     "slide_type": "slide"
    }
   },
   "source": [
    "# Python i notatnik Jupyter\n",
    "\n",
    "* Obsługa notatnika Jupyter\n",
    "* Podstawy języka Python\n",
    "* Model neuronu McCullocha-Pittsa\n",
    "***\n",
    "\n"
   ]
  },
  {
   "cell_type": "markdown",
   "metadata": {
    "slideshow": {
     "slide_type": "slide"
    }
   },
   "source": [
    "## Notatnik Jupyter - przydatne skróty klawiszowe\n",
    "\n",
    "### Tryby pracy:\n",
    "\n",
    "* `Enter` tryb **edycji komórki**. Edycja kodu lub tekstu Markdown.\n",
    "* `Ecs`  tryb **komend** (wyjście z trybu edycji). Daje możliwość zaznaczania i manipulacji na komórkach, np. usuwanie, przemieszczanie, tworzenie nowych komórek.\n",
    "\n",
    "### Uruchamianie komórek\n",
    "\n",
    "- `Ctrl` + `Enter` uruchamia komórkę\n",
    "- `Shift` + `Enter` uruchamia komórkę i przechodzi do nastepnej"
   ]
  },
  {
   "cell_type": "markdown",
   "metadata": {
    "slideshow": {
     "slide_type": "slide"
    }
   },
   "source": [
    "### **Ćwiczenie**\n",
    "\n",
    "Jaki jest wynik poniższej operacji?"
   ]
  },
  {
   "cell_type": "code",
   "execution_count": null,
   "metadata": {
    "ExecuteTime": {
     "end_time": "2022-03-07T13:40:32.718429Z",
     "start_time": "2022-03-07T13:40:32.714190Z"
    },
    "scrolled": true
   },
   "outputs": [],
   "source": [
    "2 + 2"
   ]
  },
  {
   "cell_type": "code",
   "execution_count": null,
   "metadata": {
    "ExecuteTime": {
     "end_time": "2022-03-07T13:40:29.510420Z",
     "start_time": "2022-03-07T13:40:29.506117Z"
    },
    "scrolled": true
   },
   "outputs": [],
   "source": [
    "print('Witaj Świecie')"
   ]
  },
  {
   "cell_type": "markdown",
   "metadata": {
    "slideshow": {
     "slide_type": "slide"
    }
   },
   "source": [
    "### Skróty klawiszowe\n",
    "\n",
    "\n",
    "#### W trybie komend\n",
    "\n",
    "- `A` wstawia nową komórkę powyżej\n",
    "- `B` wstawia nową komórkę poniżej\n",
    "- `M` zamienia typ komórki na komórkę Markdown\n",
    "- `Y` zamienia typ komórki na komórkę z kodem\n",
    "- `D` `D` usuwa aktualną komórkę\n",
    "- `Shift` + `Down` zaznacz następną komórkę\n",
    "- `Shift` + `Up` zaznacz poprzednią komórkę\n",
    "- `Shift` + `M` scal zaznaczone komórki\n",
    "\n",
    "#### W trybie edycji\n",
    "\n",
    "- `Ctrl` + `Shift` + `-` dzieli komórkę w miejscu kursora\n",
    "- `Esc` + `F` znajdź i zamień fragment kodu (nie uwzględnia wyników działania)\n",
    "- `Esc` + `O` włącz/wyłącz podgląd wyniku komórki"
   ]
  },
  {
   "cell_type": "markdown",
   "metadata": {
    "heading_collapsed": true,
    "slideshow": {
     "slide_type": "slide"
    }
   },
   "source": [
    "## Pomoc\n",
    "\n",
    "- `Shift` + `Tab` dokumentacja funkcji wskazanej kursorem\n",
    "- `Tab` dopełnianie składni"
   ]
  },
  {
   "cell_type": "markdown",
   "metadata": {
    "slideshow": {
     "slide_type": "-"
    }
   },
   "source": [
    "## Przydatne adresy\n",
    "- Project website: <http://jupyter.org>\n",
    "- Ściąga <https://www.edureka.co/blog/wp-content/uploads/2018/10/Jupyter_Notebook_CheatSheet_Edureka.pdf>\n",
    "- Dokumentacja: <https://jupyter.readthedocs.io/en/latest/index.html>\n",
    "- Jupyter tutorial: <https://www.datacamp.com/community/tutorials/tutorial-jupyter-notebook#gs.FvQnWPo>"
   ]
  },
  {
   "cell_type": "markdown",
   "metadata": {
    "slideshow": {
     "slide_type": "slide"
    }
   },
   "source": [
    "# Składnia Markdown \n",
    "\n",
    "Tutaj ściąga: https://github.com/adam-p/markdown-here/wiki/Markdown-Cheatsheet\n",
    "\n",
    "## Wzory w formacie $\\LaTeX$\n",
    "\n",
    "Wzór  $\\frac{\\int^\\infty_0{x}dx}{2}$ otoczony tekstem i wzór wyśrodkowany\n",
    "\n",
    "$$ \\frac{\\int^\\infty_0{x}dx}{2} $$"
   ]
  },
  {
   "cell_type": "markdown",
   "metadata": {
    "slideshow": {
     "slide_type": "slide"
    }
   },
   "source": [
    "Podstawy Pythona\n",
    "==============="
   ]
  },
  {
   "cell_type": "code",
   "execution_count": null,
   "metadata": {
    "scrolled": true
   },
   "outputs": [],
   "source": [
    "print('Witaj świecie')"
   ]
  },
  {
   "cell_type": "markdown",
   "metadata": {
    "slideshow": {
     "slide_type": "slide"
    }
   },
   "source": [
    "## Zmienne i typy\n",
    "\n",
    "Typy danych w Python: https://www.w3schools.com/python/python_datatypes.asp"
   ]
  },
  {
   "cell_type": "code",
   "execution_count": null,
   "metadata": {
    "ExecuteTime": {
     "end_time": "2022-03-07T16:22:23.162530Z",
     "start_time": "2022-03-07T16:22:23.153490Z"
    },
    "scrolled": true
   },
   "outputs": [],
   "source": [
    "# komentarz \n",
    "\n",
    "a = 42               # integer, typ calkowity\n",
    "b = True             # typ Boolowski\n",
    "c = 'Witaj Świecie'  # napis\n",
    "x = 3.14             # double\n",
    "\n",
    "y = int(x)          # rzutowanie typu int(), float(), str()\n",
    "print(y, type(y))"
   ]
  },
  {
   "cell_type": "markdown",
   "metadata": {
    "slideshow": {
     "slide_type": "slide"
    }
   },
   "source": [
    "## Operacje na napisach"
   ]
  },
  {
   "cell_type": "code",
   "execution_count": null,
   "metadata": {
    "ExecuteTime": {
     "end_time": "2022-03-07T15:19:02.340266Z",
     "start_time": "2022-03-07T15:19:02.331985Z"
    },
    "scrolled": true,
    "slideshow": {
     "slide_type": "-"
    }
   },
   "outputs": [],
   "source": [
    "# napis\n",
    "s = 'Hello'\n",
    "print(s, type(s))\n",
    "\n",
    "# operacje na zmienneych \n",
    "x = x + 1\n",
    "print('x=', x)\n",
    "\n",
    "# łączenie napisów\n",
    "s = s + ' world ' + str(x) \n",
    "print('Połaczony napis: ', s)\n",
    "\n",
    "print('Długość napisu: ', len(s))"
   ]
  },
  {
   "cell_type": "markdown",
   "metadata": {
    "slideshow": {
     "slide_type": "slide"
    }
   },
   "source": [
    "## Pomoc"
   ]
  },
  {
   "cell_type": "code",
   "execution_count": null,
   "metadata": {
    "ExecuteTime": {
     "end_time": "2022-03-07T15:24:13.291470Z",
     "start_time": "2022-03-07T15:24:13.288192Z"
    },
    "slideshow": {
     "slide_type": "-"
    }
   },
   "outputs": [],
   "source": [
    "# dokunetacja (Shift+Tab)\n",
    "help(s.count)"
   ]
  },
  {
   "cell_type": "code",
   "execution_count": null,
   "metadata": {
    "ExecuteTime": {
     "end_time": "2022-03-07T15:25:03.232502Z",
     "start_time": "2022-03-07T15:25:03.225866Z"
    },
    "scrolled": true
   },
   "outputs": [],
   "source": [
    "s.count?"
   ]
  },
  {
   "cell_type": "code",
   "execution_count": null,
   "metadata": {
    "ExecuteTime": {
     "end_time": "2022-03-07T15:25:12.805772Z",
     "start_time": "2022-03-07T15:25:12.802014Z"
    },
    "scrolled": true,
    "slideshow": {
     "slide_type": "-"
    }
   },
   "outputs": [],
   "source": [
    "print(s)\n",
    "print(s.count('l'))"
   ]
  },
  {
   "cell_type": "markdown",
   "metadata": {
    "slideshow": {
     "slide_type": "slide"
    }
   },
   "source": [
    "## Operatory arytmetyczne\n",
    "\n",
    "Lista operatorów: https://www.w3schools.com/python/python_operators.asp"
   ]
  },
  {
   "cell_type": "code",
   "execution_count": null,
   "metadata": {
    "ExecuteTime": {
     "end_time": "2022-03-07T15:25:44.562097Z",
     "start_time": "2022-03-07T15:25:44.546646Z"
    },
    "scrolled": true
   },
   "outputs": [],
   "source": [
    "# operatory arytmetyczne i realzacji takie jak w C\n",
    "x = 3       # przypisanie\n",
    "x = x + 1   # dodawnanei\n",
    "print(x)\n",
    "\n",
    "x += 3  \n",
    "print(x)\n",
    "\n",
    "x = 1 / 3   # dzielenie \n",
    "print(x)\n",
    "\n",
    "x = 7 // 3  # dzielenie całkowite \n",
    "print(x)\n",
    "\n",
    "x = 7 % 3   # modulo, reszta z dzielenia\n",
    "print(x)\n",
    "\n",
    "x = 2 ** 10   # potęgowanie\n",
    "print(x)"
   ]
  },
  {
   "cell_type": "markdown",
   "metadata": {
    "slideshow": {
     "slide_type": "slide"
    }
   },
   "source": [
    "## Wyświetlanie wartości. Funkcja print()"
   ]
  },
  {
   "cell_type": "code",
   "execution_count": null,
   "metadata": {
    "ExecuteTime": {
     "end_time": "2022-03-07T15:31:05.424371Z",
     "start_time": "2022-03-07T15:31:05.416649Z"
    }
   },
   "outputs": [],
   "source": [
    "# wyświetlanie liczb\n",
    "x = 3.14\n",
    "k = 42\n",
    "print('liczba x=' + str(x) + ', k=' + str(k))\n",
    "\n",
    "# formatowanie zgodne z funkcją printf() z języka C\n",
    "print('liczba k=%d' % k)\n",
    "\n",
    "print('liczba x=%.2f,  k=%d' % (x, k))    # (x, k) to krotka (ang. tuple)\n",
    "\n",
    "print('42 dziesietnie  to %d' % 42)\n",
    "print('42 osemkowo     to %o' % 42)\n",
    "print('42 szesnastkowo to %x' % 42)\n",
    "print('42 to znak         %c' % 42)"
   ]
  },
  {
   "cell_type": "markdown",
   "metadata": {},
   "source": [
    "f-string dla python >= 3.6"
   ]
  },
  {
   "cell_type": "code",
   "execution_count": null,
   "metadata": {
    "ExecuteTime": {
     "end_time": "2022-03-07T15:34:44.485417Z",
     "start_time": "2022-03-07T15:34:44.481858Z"
    },
    "scrolled": true
   },
   "outputs": [],
   "source": [
    "print(f'liczba x={x},  k={k}')    "
   ]
  },
  {
   "cell_type": "markdown",
   "metadata": {
    "slideshow": {
     "slide_type": "slide"
    }
   },
   "source": [
    "***\n",
    "## Operatory relacji i operatory logiczne"
   ]
  },
  {
   "cell_type": "code",
   "execution_count": null,
   "metadata": {
    "ExecuteTime": {
     "end_time": "2022-03-07T15:35:52.214522Z",
     "start_time": "2022-03-07T15:35:52.210008Z"
    }
   },
   "outputs": [],
   "source": [
    "# operatory relacji: ==, !=, <, >, <=, >=\n",
    "\n",
    "x = 42\n",
    "print(x == 42)   #  wypisze True\n",
    "print(x != 42)   # wypisze False\n",
    "print(x == 13)   # wypisze False\n",
    "print(x < 100)   # wypisze True"
   ]
  },
  {
   "cell_type": "code",
   "execution_count": null,
   "metadata": {
    "ExecuteTime": {
     "end_time": "2022-03-07T15:36:11.754293Z",
     "start_time": "2022-03-07T15:36:11.747014Z"
    },
    "scrolled": true
   },
   "outputs": [],
   "source": [
    "# operatory logiczne: not, and, or\n",
    "\n",
    "x = 42\n",
    "\n",
    "print(x < 100 and x > 40)   #  wypisze True\n",
    "print(x != 42 or True )     # wypisze True\n",
    "print(not False)            # wypisze True\n",
    "print(not 2 > 100)"
   ]
  },
  {
   "cell_type": "markdown",
   "metadata": {
    "slideshow": {
     "slide_type": "slide"
    }
   },
   "source": [
    "## Instrukcje sterujące\n",
    "### Instrukcja warunkowa if"
   ]
  },
  {
   "cell_type": "code",
   "execution_count": null,
   "metadata": {
    "ExecuteTime": {
     "end_time": "2022-03-07T15:37:23.372486Z",
     "start_time": "2022-03-07T15:37:15.074731Z"
    },
    "scrolled": true
   },
   "outputs": [],
   "source": [
    "# funkcja input() pobiera dane z terminala\n",
    "# float() zmienia na double\n",
    "x = float(input('Podaj liczbe '))\n",
    "\n",
    "if x > 0:\n",
    "    print('Liczba %f jest dodatnia' % x)"
   ]
  },
  {
   "cell_type": "code",
   "execution_count": null,
   "metadata": {
    "ExecuteTime": {
     "end_time": "2022-03-07T15:37:34.779710Z",
     "start_time": "2022-03-07T15:37:30.172222Z"
    },
    "scrolled": true
   },
   "outputs": [],
   "source": [
    "x = float(input('Podaj liczbe'))\n",
    "\n",
    "if x >= 0:\n",
    "    print('Liczba %f jest dodatnia' % x)\n",
    "else:\n",
    "    print('Liczba %f jest ujemna' % x)\n",
    "    "
   ]
  },
  {
   "cell_type": "code",
   "execution_count": null,
   "metadata": {
    "scrolled": true
   },
   "outputs": [],
   "source": [
    "x = 42\n",
    "if x > 5 and x < 10 :\n",
    "    print('x w zakresie od 5 do 10')\n",
    "elif x > 10:\n",
    "    print('x jest większy od 10')\n",
    "else:\n",
    "    print('Nie ok')"
   ]
  },
  {
   "cell_type": "markdown",
   "metadata": {
    "slideshow": {
     "slide_type": "slide"
    }
   },
   "source": [
    "### Pętle: while, for"
   ]
  },
  {
   "cell_type": "code",
   "execution_count": null,
   "metadata": {
    "ExecuteTime": {
     "end_time": "2022-03-07T15:40:07.825070Z",
     "start_time": "2022-03-07T15:40:07.819895Z"
    },
    "scrolled": true
   },
   "outputs": [],
   "source": [
    "x = 10\n",
    "while x > 0:\n",
    "    x = x -1\n",
    "    print(x)"
   ]
  },
  {
   "cell_type": "code",
   "execution_count": null,
   "metadata": {
    "ExecuteTime": {
     "end_time": "2022-03-07T15:41:43.554498Z",
     "start_time": "2022-03-07T15:41:43.549729Z"
    },
    "scrolled": true
   },
   "outputs": [],
   "source": [
    "for i in ('a', 3.13, 3, 'Ala ma kota'):\n",
    "    print(i)"
   ]
  },
  {
   "cell_type": "code",
   "execution_count": null,
   "metadata": {
    "ExecuteTime": {
     "end_time": "2022-03-07T15:42:19.617057Z",
     "start_time": "2022-03-07T15:42:19.613317Z"
    },
    "scrolled": true
   },
   "outputs": [],
   "source": [
    "for i in range(5):\n",
    "    print(i)"
   ]
  },
  {
   "cell_type": "markdown",
   "metadata": {
    "slideshow": {
     "slide_type": "slide"
    }
   },
   "source": [
    "## Instrukcje brak i continue"
   ]
  },
  {
   "cell_type": "code",
   "execution_count": null,
   "metadata": {
    "ExecuteTime": {
     "end_time": "2022-03-07T15:43:21.652605Z",
     "start_time": "2022-03-07T15:43:21.646509Z"
    },
    "scrolled": true,
    "slideshow": {
     "slide_type": "-"
    }
   },
   "outputs": [],
   "source": [
    "# Instrukcja break\n",
    "\n",
    "licznik = 0\n",
    "while True:\n",
    "    print(licznik)\n",
    "    licznik += 1\n",
    "    if licznik >= 5:\n",
    "        break      # przerwanie petli\n"
   ]
  },
  {
   "cell_type": "code",
   "execution_count": null,
   "metadata": {
    "ExecuteTime": {
     "end_time": "2022-03-07T15:43:41.210606Z",
     "start_time": "2022-03-07T15:43:41.206073Z"
    }
   },
   "outputs": [],
   "source": [
    "#Instrukcja continue\n",
    "\n",
    "for x in range(10):   \n",
    "    if x % 2 == 0:\n",
    "        continue   # pominiecie kroku \n",
    "    print(x)\n"
   ]
  },
  {
   "cell_type": "markdown",
   "metadata": {
    "slideshow": {
     "slide_type": "slide"
    }
   },
   "source": [
    "## Krotki, listy i słowniki"
   ]
  },
  {
   "cell_type": "markdown",
   "metadata": {},
   "source": [
    "**krotka** (tuple) - kolekcja elementów, której nie można modyfikować"
   ]
  },
  {
   "cell_type": "code",
   "execution_count": null,
   "metadata": {
    "ExecuteTime": {
     "end_time": "2022-03-07T15:45:14.913026Z",
     "start_time": "2022-03-07T15:45:14.904844Z"
    },
    "scrolled": true
   },
   "outputs": [],
   "source": [
    "b = ( 1, 'a', 'helo')\n",
    "\n",
    "print('b=', b)\n",
    "\n",
    "print('b[0]=', b[0])    # pierwszy element, indeksowane od 0\n",
    "\n",
    "print('%c %d %x %o' % (42, 42, 42, 42))"
   ]
  },
  {
   "cell_type": "markdown",
   "metadata": {
    "slideshow": {
     "slide_type": "slide"
    }
   },
   "source": [
    "### Listy"
   ]
  },
  {
   "cell_type": "code",
   "execution_count": null,
   "metadata": {
    "ExecuteTime": {
     "end_time": "2022-03-07T17:03:19.114481Z",
     "start_time": "2022-03-07T17:03:19.107501Z"
    },
    "scrolled": true,
    "slideshow": {
     "slide_type": "-"
    }
   },
   "outputs": [],
   "source": [
    "# lista (tablica o zmiennym rozmiarze, struktura wektor)\n",
    "\n",
    "a = [1, 2, 3, 5]\n",
    "\n",
    "print('Lista a=', a)\n",
    "print('Element a[0]=', a[0])\n",
    "\n",
    "# iterowanie po elementach listy\n",
    "for i in a:\n",
    "    print(i)\n",
    "    \n",
    "for i, x in enumerate(a):\n",
    "    print(i, x)"
   ]
  },
  {
   "cell_type": "code",
   "execution_count": null,
   "metadata": {
    "ExecuteTime": {
     "end_time": "2022-03-07T17:03:44.162492Z",
     "start_time": "2022-03-07T17:03:44.156907Z"
    },
    "scrolled": true,
    "slideshow": {
     "slide_type": "slide"
    }
   },
   "outputs": [],
   "source": [
    "# lista \n",
    "a = [ 5, 3, 2, -4, 12]\n",
    "\n",
    "a.reverse()    # odwracanie\n",
    "print(a)\n",
    "\n",
    "a.sort()       # sortowanie\n",
    "print(a)\n",
    "\n",
    "a.append(3)    # dodawanie elementu na końcu\n",
    "print(a)\n",
    "\n",
    "del a[0]      # usuwanie elementu\n",
    "print(a)"
   ]
  },
  {
   "cell_type": "code",
   "execution_count": null,
   "metadata": {
    "ExecuteTime": {
     "end_time": "2022-03-07T17:05:16.834508Z",
     "start_time": "2022-03-07T17:05:16.826461Z"
    },
    "scrolled": true,
    "slideshow": {
     "slide_type": "slide"
    }
   },
   "outputs": [],
   "source": [
    "a = []    # pusta lista\n",
    "\n",
    "print('Zawartosc listy', a)\n",
    "print('Dlugosc listy = ', len(a))\n",
    "\n",
    "for i in range(5):\n",
    "    a.append(i**2)\n",
    "\n",
    "print('Zawartosc listy', a)\n",
    "print('Dlugosc listy = ', len(a))\n",
    "\n",
    "print('Czy zawiera wartość 42 ?', 42 in a)"
   ]
  },
  {
   "cell_type": "code",
   "execution_count": null,
   "metadata": {
    "ExecuteTime": {
     "end_time": "2022-03-07T15:50:16.425306Z",
     "start_time": "2022-03-07T15:50:16.419953Z"
    },
    "scrolled": true,
    "slideshow": {
     "slide_type": "slide"
    }
   },
   "outputs": [],
   "source": [
    "# indeksowanie list\n",
    "a = [ 5, 3, 1,6 ,3]\n",
    "\n",
    "print(a[0])             # pierwszy element\n",
    "print(a[-1])            # ostatni element\n",
    "print(a[1:3])           # element od 1 do 2  (bez elementu 3!)\n",
    "print(a[2:])            # element od 2 do końca"
   ]
  },
  {
   "cell_type": "code",
   "execution_count": null,
   "metadata": {
    "ExecuteTime": {
     "end_time": "2022-03-07T15:49:07.186018Z",
     "start_time": "2022-03-07T15:49:07.179128Z"
    },
    "scrolled": true,
    "slideshow": {
     "slide_type": "slide"
    }
   },
   "outputs": [],
   "source": [
    "# lista zawierająca listy \n",
    "a= [[ 1, 2 ,3 ], [4, 5, 6, 7 ]]\n",
    "\n",
    "print(len(a))\n",
    "print(a[0])      # pierwszy wiersz\n",
    "print(a[1][2])    "
   ]
  },
  {
   "cell_type": "markdown",
   "metadata": {
    "slideshow": {
     "slide_type": "slide"
    }
   },
   "source": [
    "### Słownik {klucz: wartość}"
   ]
  },
  {
   "cell_type": "code",
   "execution_count": null,
   "metadata": {
    "ExecuteTime": {
     "end_time": "2022-03-07T17:06:58.530814Z",
     "start_time": "2022-03-07T17:06:58.520595Z"
    }
   },
   "outputs": [],
   "source": [
    "# słownik { 'klucz1' : wartość1, 'klucz2': wartość2, ...}\n",
    "s = { 'Ala' : 'ma kota', 'Ewa' : 'ma psa'}\n",
    "\n",
    "print(s['Ala'])    \n",
    "\n",
    "s['Janek']='lubi Pythona'    # nowy element słownika\n",
    "\n",
    "for k in s:\n",
    "    print(k, s[k])\n",
    "    \n",
    "print(s.keys())      # lista kluczy\n",
    "print(s.values())    # lista wartości\n",
    "print(len(s))        # ilośc elementów\n",
    "\n",
    "print('Ala' in s)    # czy klucz 'ala' jest w słowniku?\n",
    "print('Zosia' in s)  # czy 'zosia' jest w słowniku?"
   ]
  },
  {
   "cell_type": "markdown",
   "metadata": {
    "slideshow": {
     "slide_type": "slide"
    }
   },
   "source": [
    "## Funkcje\n",
    "\n",
    "* funkcje definiujemy za pomocą słowa ``def``\n",
    "* instrukcja ``return`` zwraca wartość z funkcji,wartością zwracaną mogą być krotki\n",
    "* wartości domyśle argumentów "
   ]
  },
  {
   "cell_type": "code",
   "execution_count": null,
   "metadata": {},
   "outputs": [],
   "source": [
    "def suma(a, b, c=1):\n",
    "    x = a + b + c\n",
    "    return x\n",
    "\n",
    "y = suma(1,2, 3)\n",
    "print(y)"
   ]
  },
  {
   "cell_type": "markdown",
   "metadata": {
    "slideshow": {
     "slide_type": "slide"
    }
   },
   "source": [
    "# Model nauronu McCullocha-Pittsa\n",
    "\n",
    " $$ y(\\vec{x}) =\n",
    "  \\begin{cases}\n",
    "     1       & \\quad \\text{gdy}  \\quad  \\displaystyle \\sum_{i=1}^n w_i x_i  \\ge T \\\\\n",
    "     0        & \\quad \\text{gdy } \\quad  \\displaystyle \\sum_{i=1}^n w_i x_i  < T \n",
    "  \\end{cases}\n",
    "$$\n",
    "\n",
    "  * $x_i, y \\in \\{ 0, 1 \\}$ sygnał wejściowy i wyjściowy binarny\n",
    "  * $ w_{ij} \\in \\{ -1, +1 \\} $ synapsy (wagi) pobudzające i hamujące\n",
    "  * próg pobudzenia $T > 0$"
   ]
  },
  {
   "attachments": {
    "image.png": {
     "image/png": "[encoded data removed]"
    }
   },
   "cell_type": "markdown",
   "metadata": {},
   "source": [
    "![image.png](attachment:image.png)"
   ]
  },
  {
   "attachments": {
    "image.png": {
     "image/png": "[encoded data removed]"
    }
   },
   "cell_type": "markdown",
   "metadata": {
    "slideshow": {
     "slide_type": "slide"
    }
   },
   "source": [
    "## Funkcja progowa\n",
    "\n",
    " $$ y(x) =\n",
    "  \\begin{cases}\n",
    "     1    & \\text{dla}  \\quad  x  \\ge T \\\\\n",
    "     0    & \\text{dla } \\quad  x  < T \n",
    "  \\end{cases}\n",
    "$$\n",
    "\n",
    "![image.png](attachment:image.png)"
   ]
  },
  {
   "cell_type": "markdown",
   "metadata": {
    "slideshow": {
     "slide_type": "slide"
    }
   },
   "source": [
    "### Ćwiczenie\n",
    "\n",
    "Zaimplementuj funkcję progową"
   ]
  },
  {
   "cell_type": "code",
   "execution_count": null,
   "metadata": {},
   "outputs": [],
   "source": [
    "\n",
    "\n"
   ]
  },
  {
   "cell_type": "markdown",
   "metadata": {
    "slideshow": {
     "slide_type": "slide"
    }
   },
   "source": [
    "### Ćwiczenie:\n",
    "Zaimplementuj funkcję wyznaczającą iloczyn skalarny  $f(\\vec{x}, \\vec{w})=\\sum x_i w_i$"
   ]
  },
  {
   "cell_type": "code",
   "execution_count": null,
   "metadata": {},
   "outputs": [],
   "source": [
    "\n",
    "\n"
   ]
  },
  {
   "cell_type": "markdown",
   "metadata": {
    "heading_collapsed": true,
    "slideshow": {
     "slide_type": "slide"
    }
   },
   "source": [
    "### Ćwiczenie: \n",
    "Zaimplementuj funkcję realizującą neuron McCullocha-Pittsa"
   ]
  },
  {
   "cell_type": "code",
   "execution_count": null,
   "metadata": {
    "hidden": true
   },
   "outputs": [],
   "source": [
    "\n",
    "\n"
   ]
  },
  {
   "cell_type": "markdown",
   "metadata": {
    "slideshow": {
     "slide_type": "slide"
    }
   },
   "source": [
    "### Ćwiczenie:\n",
    "Zaimplementuj funkcję realizującą bramkę OR za pomocą neuronu McCullocha-Pittsa. <BR>\n",
    "Przetestuje działanie bramki. "
   ]
  },
  {
   "cell_type": "code",
   "execution_count": null,
   "metadata": {},
   "outputs": [],
   "source": [
    "\n",
    "\n"
   ]
  }
 ],
 "metadata": {
  "celltoolbar": "Slideshow",
  "kernelspec": {
   "display_name": "Python 3 (ipykernel)",
   "language": "python",
   "name": "python3"
  },
  "language_info": {
   "codemirror_mode": {
    "name": "ipython",
    "version": 3
   },
   "file_extension": ".py",
   "mimetype": "text/x-python",
   "name": "python",
   "nbconvert_exporter": "python",
   "pygments_lexer": "ipython3",
   "version": "3.9.7"
  },
  "toc": {
   "base_numbering": 1,
   "nav_menu": {},
   "number_sections": true,
   "sideBar": true,
   "skip_h1_title": false,
   "title_cell": "Table of Contents",
   "title_sidebar": "Contents",
   "toc_cell": false,
   "toc_position": {},
   "toc_section_display": true,
   "toc_window_display": false
  },
  "varInspector": {
   "cols": {
    "lenName": 16,
    "lenType": 16,
    "lenVar": 40
   },
   "kernels_config": {
    "python": {
     "delete_cmd_postfix": "",
     "delete_cmd_prefix": "del ",
     "library": "var_list.py",
     "varRefreshCmd": "print(var_dic_list())"
    },
    "r": {
     "delete_cmd_postfix": ") ",
     "delete_cmd_prefix": "rm(",
     "library": "var_list.r",
     "varRefreshCmd": "cat(var_dic_list()) "
    }
   },
   "types_to_exclude": [
    "module",
    "function",
    "builtin_function_or_method",
    "instance",
    "_Feature"
   ],
   "window_display": false
  }
 },
 "nbformat": 4,
 "nbformat_minor": 4
}
